{
 "cells": [
  {
   "cell_type": "markdown",
   "id": "bbc5a614-2250-4253-b4aa-f6d37d057567",
   "metadata": {
    "slideshow": {
     "slide_type": "slide"
    }
   },
   "source": [
    "# Back-To-Front\n",
    "\n",
    "A backend Python developer's journey in to the world of UI via HTMX"
   ]
  },
  {
   "cell_type": "markdown",
   "id": "1b4aefe5-25c1-4ace-93dd-4eecb168de93",
   "metadata": {},
   "source": [
    "## Motivation"
   ]
  },
  {
   "cell_type": "markdown",
   "id": "a716da27-a11b-478a-b337-c5261b3be5d7",
   "metadata": {
    "slideshow": {
     "slide_type": "notes"
    }
   },
   "source": [
    "# Motivation\n",
    "- Needed a UI for a Python based project\n",
    "- Wanted to get something up and running without having to learn a whole new tech stack and language (e.g. React and JavaScript)"
   ]
  },
  {
   "cell_type": "markdown",
   "id": "e0add177-1748-407a-8070-e1375ce077ed",
   "metadata": {
    "slideshow": {
     "slide_type": "notes"
    }
   },
   "source": [
    "- Discovered HTMX"
   ]
  },
  {
   "cell_type": "markdown",
   "id": "47a0d6ff",
   "metadata": {
    "slideshow": {
     "slide_type": "slide"
    }
   },
   "source": [
    "# Server Side Rendering\n",
    "\n",
    "- OG web\n",
    "- State managed by the server\n",
    "\n",
    "Browser <--(HTML)-- Server\n"
   ]
  },
  {
   "cell_type": "markdown",
   "id": "f6ec3b37",
   "metadata": {
    "slideshow": {
     "slide_type": "fragment"
    }
   },
   "source": [
    "# Client Side Rendering\n",
    "- Modern Web\n",
    "- Manages state client side and then updates the HTML\n",
    "\n",
    "Browser (JS client) <--(JSON)-- Server"
   ]
  },
  {
   "cell_type": "markdown",
   "id": "2b45e622-1400-43e9-bd04-6793a662ab87",
   "metadata": {
    "slideshow": {
     "slide_type": "slide"
    }
   },
   "source": [
    "# HTMX (server side rendering)\n",
    "\n",
    "\n",
    "“HTML extensions”\n",
    "\n",
    "- allows the creation of dynamic web pages without having to write JavaScript.\n",
    "- Developer experience: write HTML and a 'backend' that returns HTML.\n",
    "- Integrates well with Python and FastAPI.\n"
   ]
  },
  {
   "cell_type": "markdown",
   "id": "05d510f9",
   "metadata": {
    "slideshow": {
     "slide_type": "fragment"
    }
   },
   "source": [
    "# HOWL Stack\n",
    "- HTMX On Whatever you Like Stack (e.g. Python FastAPI webapp)"
   ]
  },
  {
   "cell_type": "markdown",
   "id": "65265bce",
   "metadata": {
    "slideshow": {
     "slide_type": "slide"
    }
   },
   "source": [
    "# HTMX Demo\n",
    "\n",
    "http://0.0.0.0:8080/"
   ]
  },
  {
   "cell_type": "markdown",
   "id": "042d631b-555b-4fab-958c-25bb53bc1e35",
   "metadata": {
    "slideshow": {
     "slide_type": "slide"
    }
   },
   "source": [
    "## Front End\n",
    "\n",
    "Browser queries home route `/`:\n",
    "\n",
    "[home-route](../frontend/routers/home.py)"
   ]
  },
  {
   "cell_type": "code",
   "execution_count": 1,
   "id": "eca25a11-0c2d-46b1-95e9-b3920fd8f03f",
   "metadata": {
    "slideshow": {
     "slide_type": "slide"
    }
   },
   "outputs": [
    {
     "name": "stdout",
     "output_type": "stream",
     "text": [
      "<!DOCTYPE html>\n",
      "<html lang=\"en\">\n",
      "<head>\n",
      "    <meta charset=\"utf-8\">\n",
      "    <meta name=\"viewport\" content=\"width=device-width, initial-scale=1\">\n",
      "    <title>SubBox</title>\n",
      "    <meta name=\"description\" content=\"SubBox Landing Page.\"/>\n",
      "    <link rel=\"stylesheet\" href=\"https://cdn.jsdelivr.net/npm/bulma@0.9.3/css/bulma.min.css\">\n",
      "    <link rel=\"stylesheet\" type=\"test/css\" href=\"../static/css/site.css\"/>\n",
      "    <script src=\"https://unpkg.com/htmx.org@1.9.7\"></script>\n",
      "</head>\n",
      "\n",
      "<body class=\"bg-slate-900\">\n",
      "    \n",
      "    <nav class=\"navbar\" role=\"navigation\" aria-label=\"main navigation\">\n",
      "    <script src=\"https://unpkg.com/htmx.org@1.7.0\"></script>\n",
      "  <div class=\"navbar-brand\">\n",
      "    <a class=\"navbar-item\" href=\"/\">\n",
      "      <img src=\"/imgs/bars\" width=\"112\" height=\"28\">\n",
      "    </a>\n",
      "  </div>\n",
      "\n",
      "  <div id=\"navbarBasicExample\" class=\"navbar-menu\">\n",
      "    <div class=\"navbar-start\">\n",
      "      <a class=\"navbar-item\" href=\"/about\">\n",
      "        About\n",
      "      </a>\n",
      "\n",
      "    </div>\n",
      "\n",
      "    <div class=\"navbar-end\">\n",
      "      <div class=\"navbar-item\">\n",
      "        <div class=\"buttons\">\n",
      "          <a hx-get=\"/user/signupform\" hx-target=\"#content\" hx-swap=\"innerHTML\" class=\"button is-primary\">\n",
      "            <strong>Sign up</strong>\n",
      "          </a>\n",
      "          <a hx-get=\"/user/loginform\" hx-target=\"#content\" hx-swap=\"innerHTML\" class=\"button is-primary\">\n",
      "            Log in\n",
      "          </a>\n",
      "        </div>\n",
      "      </div>\n",
      "    </div>\n",
      "  </div>\n",
      "</nav>\n",
      "    \n",
      "\n",
      "    <div id=\"content\">\n",
      "    \n",
      "<header>\n",
      "    <section class=\"hero is-primary\">\n",
      "        <div class=\"hero-body\">\n",
      "            <div class=\"container\">\n",
      "                <p>BACK-TO-FRONT HOME</p>\n",
      "            </div>\n",
      "        </div>\n",
      "    </section>\n",
      "</header>\n",
      "<section class=\"section\">\n",
      "    <div class=\"container\">\n",
      "        <div id=\"welcome\">\n",
      "    <p>welcome to back-to-front.</p>\n",
      "    <br>\n",
      "    <p>find out more <a href=\"/about\">here</a></p>\n",
      "</div>\n",
      "    </div>\n",
      "</section>\n",
      "\n",
      "    </div>\n",
      "\n",
      "    \n",
      "    <footer class=\"footer\">\n",
      "    <div class=\"container\">\n",
      "        <div class=\"content has-text-centered\">\n",
      "            <p class=\"text-center text-slate-500 pt-10\">\n",
      "            Copyright © 2023 Largest Circle\n",
      "            </p>\n",
      "        </div>\n",
      "    </div>\n",
      "</footer>\n",
      "    \n",
      "    <script src=\"https://unpkg.com/htmx.org@1.7.0\"></script>\n",
      "</body>\n",
      "</html>\n"
     ]
    }
   ],
   "source": [
    "import requests\n",
    "\n",
    "returned_html = requests.get('http://0.0.0.0:8080/')\n",
    "print(returned_html.text)"
   ]
  },
  {
   "cell_type": "markdown",
   "id": "ac54d920-dd42-4dc7-93aa-cbc98ded7930",
   "metadata": {
    "slideshow": {
     "slide_type": "notes"
    }
   },
   "source": [
    "- This is HTML code that then is interpretted by the browser.\n",
    "- Note the magic htmx script\n",
    "- This switches on the HTMX logic in the browser"
   ]
  },
  {
   "cell_type": "markdown",
   "id": "fb49454f-43c0-4379-9af0-a96884ee6d54",
   "metadata": {
    "slideshow": {
     "slide_type": "slide"
    }
   },
   "source": [
    "# Dynamic rendering\n",
    "- Partial update of the web page"
   ]
  },
  {
   "cell_type": "code",
   "execution_count": 2,
   "id": "ea1e38f6-49bd-4bba-99f7-828bd78681b0",
   "metadata": {
    "slideshow": {
     "slide_type": "slide"
    }
   },
   "outputs": [
    {
     "name": "stdout",
     "output_type": "stream",
     "text": [
      "<header>\n",
      "    <section class=\"hero is-primary\">\n",
      "        <div class=\"hero-body\">\n",
      "            <div class=\"container\">\n",
      "                <p>BACK-TO-FRONT - SIGNUP</p>\n",
      "            </div>\n",
      "        </div>\n",
      "    </section>\n",
      "</header>\n",
      "<section class=\"section\">\n",
      "    <div class=\"container\">\n",
      "        <div class=\"container\">\n",
      "            <div id=\"signupform\">\n",
      "                <p>Create an account.</p>\n",
      "                <br>\n",
      "                <h2 class=\"subtitle\">Sign Up</h2>\n",
      "                <form>\n",
      "                    <div class=\"column is-3\">\n",
      "                          <div class=\"control\">\n",
      "                            <input class=\"input\" name=\"username\" type=\"text\" placeholder=\"username\">\n",
      "                          </div>\n",
      "                    </div>\n",
      "                    <div class=\"column is-3\">\n",
      "                        <div class=\"control\">\n",
      "                            <input class=\"input\" name=\"password\" type=\"text\" placeholder=\"password\">\n",
      "                        </div>\n",
      "                    </div>\n",
      "                    <div class=\"column is-3\">\n",
      "                        <div class=\"control\">\n",
      "                            <input class=\"input\" name=\"email\" type=\"text\" placeholder=\"email\">\n",
      "                        </div>\n",
      "                    </div>\n",
      "                    <div class=\"py-2\">\n",
      "                        <input type=\"checkbox\" id=\"newsletter\" name=\"newsletter\" value=\"True\" checked>\n",
      "                        <label class=\"px-3\" class=\"py-6\">Sign up to the newsletter.\n",
      "                           </label>\n",
      "                    </div>\n",
      "                    <div class=\"column is-3\">\n",
      "                        <button class=\"button is-primary\" hx-post=\"/user/create\" hx-target=\"#signupform\" hx-swap=\"innerHTML\" hx-indicator=\"#spinner\" hx-include=\"#newsletter\">\n",
      "                            Create <img id=\"spinner\" class=\"htmx-indicator loader\" src=\"/imgs/spin\">\n",
      "                        </button>\n",
      "                    </div>\n",
      "                </form>\n",
      "            </div>\n",
      "        </div>\n",
      "    </div>\n",
      "</section>\n",
      "\n"
     ]
    }
   ],
   "source": [
    "import requests\n",
    "\n",
    "returned_html = requests.get('http://0.0.0.0:8080/user/signupform')\n",
    "print(returned_html.text)"
   ]
  },
  {
   "cell_type": "markdown",
   "id": "0b233602-7a9f-4967-9be8-e46823723a11",
   "metadata": {
    "slideshow": {
     "slide_type": "slide"
    }
   },
   "source": [
    "# HTMX\n",
    "- HTMX extends standard HTML and enables the HTML itself to make all kinds of HTTP requests (not just GET and POST).\n",
    "- HTMX also can pass parts of the DOM to the requests.\n",
    "- In the above we're including the value of the 'newsletter' check box to the [/user/create](../frontend/routers/user.py) route."
   ]
  },
  {
   "cell_type": "markdown",
   "id": "0ad0463f-ac12-4dcb-87ad-91afbc131206",
   "metadata": {
    "slideshow": {
     "slide_type": "slide"
    }
   },
   "source": [
    "# HTMX Limitations\n",
    "- asynchronous operations.\n",
    "- debugging in the browser.\n",
    "- code bases consist of large amounts of HTML templates.\n",
    "- I started building a service called sub-box in HTMX. I'm now migrating it to react."
   ]
  },
  {
   "cell_type": "markdown",
   "id": "3b206530-a464-41d6-a117-197f27fbb117",
   "metadata": {
    "slideshow": {
     "slide_type": "slide"
    }
   },
   "source": [
    "# Source Code\n",
    "https://github.com/laker-93/back-to-front\n",
    "<img src=\"back-to-front.jpeg\" alt=\"back-to-front\" width=\"500\"/>"
   ]
  }
 ],
 "metadata": {
  "celltoolbar": "Slideshow",
  "kernelspec": {
   "display_name": "Python 3 (ipykernel)",
   "language": "python",
   "name": "python3"
  },
  "language_info": {
   "codemirror_mode": {
    "name": "ipython",
    "version": 3
   },
   "file_extension": ".py",
   "mimetype": "text/x-python",
   "name": "python",
   "nbconvert_exporter": "python",
   "pygments_lexer": "ipython3",
   "version": "3.11.9"
  }
 },
 "nbformat": 4,
 "nbformat_minor": 5
}
