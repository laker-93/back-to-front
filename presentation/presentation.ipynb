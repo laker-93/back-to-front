{
 "cells": [
  {
   "cell_type": "markdown",
   "id": "bbc5a614-2250-4253-b4aa-f6d37d057567",
   "metadata": {
    "slideshow": {
     "slide_type": "slide"
    }
   },
   "source": [
    "# Back-To-Front\n",
    "\n",
    "A backend Python developer's journey in to the world of UI."
   ]
  },
  {
   "cell_type": "markdown",
   "id": "a716da27-a11b-478a-b337-c5261b3be5d7",
   "metadata": {
    "slideshow": {
     "slide_type": "slide"
    }
   },
   "source": [
    "# Motivation\n",
    "- Needed a UI for a Python based project\n",
    "- Wanted to get something up and running without having to learn a whole new tech stack and language (e.g. React and JavaScript)"
   ]
  },
  {
   "cell_type": "markdown",
   "id": "e0add177-1748-407a-8070-e1375ce077ed",
   "metadata": {
    "slideshow": {
     "slide_type": "fragment"
    }
   },
   "source": [
    "- Discovered HTMX"
   ]
  },
  {
   "cell_type": "markdown",
   "id": "47a0d6ff",
   "metadata": {
    "slideshow": {
     "slide_type": "slide"
    }
   },
   "source": [
    "# Server Side Rendering\n",
    "\n",
    "- OG web\n",
    "\n",
    "Browser <--(HTML)-- Server\n"
   ]
  },
  {
   "cell_type": "markdown",
   "id": "f6ec3b37",
   "metadata": {
    "slideshow": {
     "slide_type": "slide"
    }
   },
   "source": [
    "# Client Side Rendering\n",
    "- Modern Web\n",
    "\n",
    "Browser (JS client) <--(JSON)-- Server"
   ]
  },
  {
   "cell_type": "markdown",
   "id": "2b45e622-1400-43e9-bd04-6793a662ab87",
   "metadata": {
    "slideshow": {
     "slide_type": "slide"
    }
   },
   "source": [
    "# HTMX (server side rendering)\n",
    "\n",
    "\n",
    "“HTML extensions”\n",
    "\n",
    "- A JavaScript library that extends HTML, allowing the creation of dynamic web pages without having to write JavaScript.\n",
    "- Developer experience: write enhanced HTML and a 'backend' that returns HTML.\n",
    "- Integrates well with  Python and FastAPI for creating the routes that return HTML.\n"
   ]
  },
  {
   "cell_type": "markdown",
   "id": "05d510f9",
   "metadata": {
    "slideshow": {
     "slide_type": "slide"
    }
   },
   "source": [
    "# HOWL Stack\n",
    "- HTMX On Whatever you Like Stack\n",
    "- Anything the returns HTML works (e.g. Python FastAPI webapp)"
   ]
  },
  {
   "cell_type": "markdown",
   "id": "65265bce",
   "metadata": {
    "slideshow": {
     "slide_type": "slide"
    }
   },
   "source": [
    "# HTMX Demo\n",
    "\n",
    "http://0.0.0.0:8080/"
   ]
  },
  {
   "cell_type": "markdown",
   "id": "d4b64df0-5ed6-4c34-acff-055a7c4b5f17",
   "metadata": {
    "slideshow": {
     "slide_type": "slide"
    }
   },
   "source": [
    "# HTMX App\n",
    "\n",
    "## Front end\n",
    "\n",
    "HTTP endpoints that return HTML.\n",
    "\n",
    "## Backend\n",
    "\n",
    "HTTP endpoints that return HTML"
   ]
  },
  {
   "cell_type": "markdown",
   "id": "042d631b-555b-4fab-958c-25bb53bc1e35",
   "metadata": {
    "slideshow": {
     "slide_type": "slide"
    }
   },
   "source": [
    "## Front End\n",
    "\n",
    "Browser queries home route `/`:\n",
    "\n",
    "[home-route](../frontend/routers/home.py)"
   ]
  },
  {
   "cell_type": "code",
   "execution_count": null,
   "id": "eca25a11-0c2d-46b1-95e9-b3920fd8f03f",
   "metadata": {
    "slideshow": {
     "slide_type": "slide"
    }
   },
   "outputs": [],
   "source": [
    "import requests\n",
    "\n",
    "returned_html = requests.get('http://0.0.0.0:8080/')\n",
    "print(returned_html.text)"
   ]
  },
  {
   "cell_type": "markdown",
   "id": "ac54d920-dd42-4dc7-93aa-cbc98ded7930",
   "metadata": {
    "slideshow": {
     "slide_type": "slide"
    }
   },
   "source": [
    "- This is HTML code that then is interpretted by the browser.\n",
    "- Note the magic htmx script\n",
    "- This switches on the HTMX logic in the browser"
   ]
  },
  {
   "cell_type": "markdown",
   "id": "fb49454f-43c0-4379-9af0-a96884ee6d54",
   "metadata": {
    "slideshow": {
     "slide_type": "slide"
    }
   },
   "source": [
    "# Dynamic rendering\n",
    "- Partial update of the web page"
   ]
  },
  {
   "cell_type": "code",
   "execution_count": null,
   "id": "ea1e38f6-49bd-4bba-99f7-828bd78681b0",
   "metadata": {
    "slideshow": {
     "slide_type": "slide"
    }
   },
   "outputs": [],
   "source": [
    "import requests\n",
    "\n",
    "returned_html = requests.get('http://0.0.0.0:8080/user/signupform')\n",
    "print(returned_html.text)"
   ]
  },
  {
   "cell_type": "markdown",
   "id": "0b233602-7a9f-4967-9be8-e46823723a11",
   "metadata": {
    "slideshow": {
     "slide_type": "slide"
    }
   },
   "source": [
    "# HTMX post\n",
    "- HTMX extends standard HTML and enables the HTML itself to make POST requests.\n",
    "- HTMX also can pass parts of the DOM to the POST request.\n",
    "- In the above we're including the value of the 'newsletter' check box to the [/user/create](../frontend/routers/user.py) route."
   ]
  },
  {
   "cell_type": "markdown",
   "id": "0ad0463f-ac12-4dcb-87ad-91afbc131206",
   "metadata": {
    "slideshow": {
     "slide_type": "slide"
    }
   },
   "source": [
    "# HTMX Limitations\n",
    "- awkward to interact with javascript to do asynchronous operations\n",
    "- limited debugging facilities in the browser\n",
    "- can get hard to manage the code base for large projects. Better tooling around javascript codebases compared to HTML templates.\n",
    "- I started building a service called sub-box in HTMX. I'm now migrating it to react."
   ]
  },
  {
   "cell_type": "markdown",
   "id": "3b206530-a464-41d6-a117-197f27fbb117",
   "metadata": {
    "slideshow": {
     "slide_type": "slide"
    }
   },
   "source": [
    "# Further Info\n",
    "- source code\n",
    "- sub-box discord"
   ]
  }
 ],
 "metadata": {
  "celltoolbar": "Slideshow",
  "kernelspec": {
   "display_name": "Python 3 (ipykernel)",
   "language": "python",
   "name": "python3"
  },
  "language_info": {
   "codemirror_mode": {
    "name": "ipython",
    "version": 3
   },
   "file_extension": ".py",
   "mimetype": "text/x-python",
   "name": "python",
   "nbconvert_exporter": "python",
   "pygments_lexer": "ipython3",
   "version": "3.11.9"
  }
 },
 "nbformat": 4,
 "nbformat_minor": 5
}
